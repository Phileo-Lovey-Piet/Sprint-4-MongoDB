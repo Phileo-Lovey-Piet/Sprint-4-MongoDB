{
 "cells": [
  {
   "cell_type": "code",
   "execution_count": null,
   "metadata": {},
   "outputs": [],
   "source": [
    "import pymongo\n",
    "import pandas as pd\n",
    "\n",
    "myclient = pymongo.MongoClient(\"mongodb://localhost:27017/\")\n",
    "\n",
    "MyDB = myclient[\"Data_Tracker\"]\n",
    "\n",
    "Db = MyDB[\"Products\"]\n",
    "\n",
    "dict =  {\n",
    "    'Chips':['Simba', 'Lays',''],\n",
    "    'Cooldrinks':['Coke', 'Fanta',''],\n",
    "    'Chocolates':['Cadbury', 'Tex',''],\n",
    "    'Pies':['Pepper Steak', 'Chicken',''],\n",
    "    'Fruit':['Pear', 'Apple','Orange'],\n",
    "    'Cupcakes':['vanilla', 'chocolate',''],\n",
    "    'Veggies':['spinach', 'cabbage',''],\n",
    "    'Pasta':['Barilla', 'Ronzoni',''],\n",
    "    'Meats':['Dakota Beef', 'Lafleur',''],\n",
    "    'Sweets':['Skittles', 'KitKat','']\n",
    "    \n",
    "}\n",
    "\n",
    "x = Db.insert_one(dict)\n",
    "\n",
    "print(x.inserted_id)"
   ]
  },
  {
   "cell_type": "code",
   "execution_count": null,
   "metadata": {},
   "outputs": [],
   "source": []
  }
 ],
 "metadata": {
  "kernelspec": {
   "display_name": "Python 3",
   "language": "python",
   "name": "python3"
  },
  "language_info": {
   "codemirror_mode": {
    "name": "ipython",
    "version": 3
   },
   "file_extension": ".py",
   "mimetype": "text/x-python",
   "name": "python",
   "nbconvert_exporter": "python",
   "pygments_lexer": "ipython3",
   "version": "3.7.6"
  }
 },
 "nbformat": 4,
 "nbformat_minor": 4
}
